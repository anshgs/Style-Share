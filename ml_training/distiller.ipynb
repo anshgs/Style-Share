{
 "cells": [
  {
   "cell_type": "code",
   "execution_count": 6,
   "metadata": {},
   "outputs": [
    {
     "name": "stdout",
     "output_type": "stream",
     "text": [
      "The tensorboard extension is already loaded. To reload it, use:\n",
      "  %reload_ext tensorboard\n"
     ]
    }
   ],
   "source": [
    "import numpy as np\n",
    "import os\n",
    "\n",
    "import PIL.Image as Image\n",
    "import matplotlib.pylab as plt\n",
    "\n",
    "import tensorflow as tf\n",
    "import tensorflow_hub as hub\n",
    "\n",
    "import datetime\n",
    "os.environ['TFHUB_MODEL_LOAD_FORMAT'] = 'COMPRESSED'\n",
    "\n",
    "\n",
    "%load_ext tensorboard"
   ]
  },
  {
   "cell_type": "code",
   "execution_count": 7,
   "metadata": {},
   "outputs": [],
   "source": [
    "mobilenet_v2 = \"https://tfhub.dev/google/tf2-preview/mobilenet_v2/feature_vector/4\"\n",
    "feature_extractor_model = mobilenet_v2"
   ]
  },
  {
   "cell_type": "code",
   "execution_count": 8,
   "metadata": {},
   "outputs": [],
   "source": [
    "feature_extractor_layer = hub.KerasLayer(\n",
    "    feature_extractor_model,\n",
    "    input_shape=(224, 224, 3),\n",
    "    trainable=False)"
   ]
  },
  {
   "cell_type": "code",
   "execution_count": 9,
   "metadata": {},
   "outputs": [
    {
     "name": "stdout",
     "output_type": "stream",
     "text": [
      "<class 'keras.engine.sequential.Sequential'>\n",
      "Model: \"sequential_1\"\n",
      "_________________________________________________________________\n",
      " Layer (type)                Output Shape              Param #   \n",
      "=================================================================\n",
      " keras_layer_1 (KerasLayer)  (None, 1280)              2257984   \n",
      "                                                                 \n",
      " dense_1 (Dense)             (None, 100)               128100    \n",
      "                                                                 \n",
      "=================================================================\n",
      "Total params: 2,386,084\n",
      "Trainable params: 128,100\n",
      "Non-trainable params: 2,257,984\n",
      "_________________________________________________________________\n"
     ]
    }
   ],
   "source": [
    "num_classes = 100\n",
    "\n",
    "model = tf.keras.Sequential([\n",
    "  feature_extractor_layer,\n",
    "  tf.keras.layers.Dense(num_classes)\n",
    "])\n",
    "print(type(model))\n",
    "model.summary()"
   ]
  },
  {
   "cell_type": "code",
   "execution_count": 13,
   "metadata": {},
   "outputs": [
    {
     "ename": "AttributeError",
     "evalue": "'_UserObject' object has no attribute 'size'",
     "output_type": "error",
     "traceback": [
      "\u001b[1;31m---------------------------------------------------------------------------\u001b[0m",
      "\u001b[1;31mAttributeError\u001b[0m                            Traceback (most recent call last)",
      "\u001b[1;32mc:\\Users\\anshs\\Documents\\course-project-dhs-a\\ml_training\\distiller.ipynb Cell 5'\u001b[0m in \u001b[0;36m<module>\u001b[1;34m\u001b[0m\n\u001b[0;32m      <a href='vscode-notebook-cell:/c%3A/Users/anshs/Documents/course-project-dhs-a/ml_training/distiller.ipynb#ch0000005?line=0'>1</a>\u001b[0m hub_handle \u001b[39m=\u001b[39m \u001b[39m'\u001b[39m\u001b[39mhttps://tfhub.dev/google/magenta/arbitrary-image-stylization-v1-256/2\u001b[39m\u001b[39m'\u001b[39m\n\u001b[0;32m      <a href='vscode-notebook-cell:/c%3A/Users/anshs/Documents/course-project-dhs-a/ml_training/distiller.ipynb#ch0000005?line=1'>2</a>\u001b[0m hub_module \u001b[39m=\u001b[39m hub\u001b[39m.\u001b[39mload(hub_handle)\n\u001b[1;32m----> <a href='vscode-notebook-cell:/c%3A/Users/anshs/Documents/course-project-dhs-a/ml_training/distiller.ipynb#ch0000005?line=2'>3</a>\u001b[0m \u001b[39mprint\u001b[39m((hub_module)\u001b[39m.\u001b[39;49msize())\n",
      "\u001b[1;31mAttributeError\u001b[0m: '_UserObject' object has no attribute 'size'"
     ]
    }
   ],
   "source": [
    "hub_handle = 'https://tfhub.dev/google/magenta/arbitrary-image-stylization-v1-256/2'\n",
    "hub_module = hub.load(hub_handle)\n",
    "print(hub_module)"
   ]
  },
  {
   "cell_type": "code",
   "execution_count": 12,
   "metadata": {},
   "outputs": [
    {
     "name": "stdout",
     "output_type": "stream",
     "text": [
      "Downloading split 'validation' to 'C:\\Users\\anshs\\fiftyone\\open-images-v6\\validation' if necessary\n",
      "Downloading 'https://storage.googleapis.com/openimages/2018_04/validation/validation-images-with-rotation.csv' to 'C:\\Users\\anshs\\fiftyone\\open-images-v6\\validation\\metadata\\image_ids.csv'\n",
      "Downloading 'https://storage.googleapis.com/openimages/v5/class-descriptions-boxable.csv' to 'C:\\Users\\anshs\\fiftyone\\open-images-v6\\validation\\metadata\\classes.csv'\n",
      "Downloading 'https://storage.googleapis.com/openimages/v6/oidv6-attributes-description.csv' to 'C:\\Users\\anshs\\fiftyone\\open-images-v6\\validation\\metadata\\attributes.csv'\n",
      "Downloading 'https://storage.googleapis.com/openimages/v5/classes-segmentation.txt' to 'C:\\Users\\anshs\\fiftyone\\open-images-v6\\validation\\metadata\\segmentation_classes.csv'\n",
      "Downloading 'https://storage.googleapis.com/openimages/2018_04/bbox_labels_600_hierarchy.json' to 'C:\\Users\\anshs\\AppData\\Local\\Temp\\tmptyhoo1h2\\metadata\\hierarchy.json'\n",
      "Downloading 'https://storage.googleapis.com/openimages/v5/validation-annotations-human-imagelabels-boxable.csv' to 'C:\\Users\\anshs\\fiftyone\\open-images-v6\\validation\\labels\\classifications.csv'\n",
      "Downloading 'https://storage.googleapis.com/openimages/v5/validation-annotations-bbox.csv' to 'C:\\Users\\anshs\\fiftyone\\open-images-v6\\validation\\labels\\detections.csv'\n",
      "Downloading 'https://storage.googleapis.com/openimages/v6/oidv6-validation-annotations-vrd.csv' to 'C:\\Users\\anshs\\fiftyone\\open-images-v6\\validation\\labels\\relationships.csv'\n",
      "Downloading 'https://storage.googleapis.com/openimages/v5/validation-annotations-object-segmentation.csv' to 'C:\\Users\\anshs\\fiftyone\\open-images-v6\\validation\\labels\\segmentations.csv'\n",
      "Downloading 41620 images\n",
      "Connection pool is full, discarding connection: open-images-dataset.s3.amazonaws.com. Connection pool size: 16\n",
      " 100% |███████████████| 41620/41620 [7.6m elapsed, 0s remaining, 79.7 files/s]       \n",
      "Dataset info written to 'C:\\Users\\anshs\\fiftyone\\open-images-v6\\info.json'\n",
      "Loading 'open-images-v6' split 'validation'\n",
      " 100% |█████████████| 41620/41620 [13.9m elapsed, 0s remaining, 57.6 samples/s]      \n",
      "Dataset 'open-images-v6-validation' created\n"
     ]
    }
   ],
   "source": [
    "import fiftyone\n",
    "dataset = fiftyone.zoo.load_zoo_dataset(\"open-images-v6\", split=\"validation\")"
   ]
  }
 ],
 "metadata": {
  "interpreter": {
   "hash": "c349cda20fd39d04842b27c8c1cf5703ae8b0c98cbdbfcf5ebbcac2f7e1e0054"
  },
  "kernelspec": {
   "display_name": "Python 3.9.10 64-bit",
   "language": "python",
   "name": "python3"
  },
  "language_info": {
   "codemirror_mode": {
    "name": "ipython",
    "version": 3
   },
   "file_extension": ".py",
   "mimetype": "text/x-python",
   "name": "python",
   "nbconvert_exporter": "python",
   "pygments_lexer": "ipython3",
   "version": "3.9.10"
  },
  "orig_nbformat": 4
 },
 "nbformat": 4,
 "nbformat_minor": 2
}
