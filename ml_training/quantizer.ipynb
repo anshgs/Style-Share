{
 "cells": [
  {
   "cell_type": "code",
   "execution_count": null,
   "metadata": {},
   "outputs": [],
   "source": [
    "import tensorflow as tf\n",
    "import tensorflow_hub as hub\n",
    "import tensorflow_model_optimization as tfmot\n",
    "\n",
    "#Used to convert tf and keras models into quantized tflite models, giving ~4x compression\n",
    "\n",
    "def create_quantized(model_addr):\n",
    "    model = tf.keras.models.load_model(model_addr, custom_objects={'KerasLayer':hub.KerasLayer})\n",
    "\n",
    "    converter = tf.lite.TFLiteConverter.from_keras_model(model)\n",
    "    converter.optimizations = [tf.lite.Optimize.OPTIMIZE_FOR_SIZE]\n",
    "\n",
    "    tflite_model = converter.convert()\n",
    "    open(model_addr[-3:]+\"_quantized.tflite\", \"wb\").write(tflite_model)"
   ]
  }
 ],
 "metadata": {
  "language_info": {
   "name": "python"
  },
  "orig_nbformat": 4
 },
 "nbformat": 4,
 "nbformat_minor": 2
}
